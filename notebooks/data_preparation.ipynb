{
 "cells": [
  {
   "cell_type": "markdown",
   "source": [
    "# Data Preparation"
   ],
   "metadata": {
    "collapsed": false
   },
   "id": "eb9abb5a83b42224"
  },
  {
   "cell_type": "code",
   "execution_count": 1,
   "outputs": [],
   "source": [
    "import pandas as pd"
   ],
   "metadata": {
    "collapsed": false,
    "ExecuteTime": {
     "end_time": "2025-04-09T07:47:27.311136Z",
     "start_time": "2025-04-09T07:47:27.079775Z"
    }
   },
   "id": "initial_id"
  },
  {
   "cell_type": "code",
   "execution_count": 6,
   "outputs": [
    {
     "data": {
      "text/plain": "        Order_ID  Agent_Age  Agent_Rating  Store_Latitude  Store_Longitude  \\\n0  ialx566343618         37           4.9       22.745049        75.892471   \n1  akqg208421122         34           4.5       12.913041        77.683237   \n2  njpu434582536         23           4.4       12.914264        77.678400   \n3  rjto796129700         38           4.7       11.003669        76.976494   \n4  zguw716275638         32           4.6       12.972793        80.249982   \n\n   Drop_Latitude  Drop_Longitude  Order_Date Order_Time Pickup_Time  \\\n0      22.765049       75.912471  2022-03-19   11:30:00    11:45:00   \n1      13.043041       77.813237  2022-03-25   19:45:00    19:50:00   \n2      12.924264       77.688400  2022-03-19   08:30:00    08:45:00   \n3      11.053669       77.026494  2022-04-05   18:00:00    18:10:00   \n4      13.012793       80.289982  2022-03-26   13:30:00    13:45:00   \n\n      Weather Traffic     Vehicle           Area  Delivery_Time     Category  \n0       Sunny    High  motorcycle          Urban            120     Clothing  \n1      Stormy     Jam     scooter  Metropolitian            165  Electronics  \n2  Sandstorms     Low  motorcycle          Urban            130       Sports  \n3       Sunny  Medium  motorcycle  Metropolitian            105    Cosmetics  \n4      Cloudy    High     scooter  Metropolitian            150         Toys  ",
      "text/html": "<div>\n<style scoped>\n    .dataframe tbody tr th:only-of-type {\n        vertical-align: middle;\n    }\n\n    .dataframe tbody tr th {\n        vertical-align: top;\n    }\n\n    .dataframe thead th {\n        text-align: right;\n    }\n</style>\n<table border=\"1\" class=\"dataframe\">\n  <thead>\n    <tr style=\"text-align: right;\">\n      <th></th>\n      <th>Order_ID</th>\n      <th>Agent_Age</th>\n      <th>Agent_Rating</th>\n      <th>Store_Latitude</th>\n      <th>Store_Longitude</th>\n      <th>Drop_Latitude</th>\n      <th>Drop_Longitude</th>\n      <th>Order_Date</th>\n      <th>Order_Time</th>\n      <th>Pickup_Time</th>\n      <th>Weather</th>\n      <th>Traffic</th>\n      <th>Vehicle</th>\n      <th>Area</th>\n      <th>Delivery_Time</th>\n      <th>Category</th>\n    </tr>\n  </thead>\n  <tbody>\n    <tr>\n      <th>0</th>\n      <td>ialx566343618</td>\n      <td>37</td>\n      <td>4.9</td>\n      <td>22.745049</td>\n      <td>75.892471</td>\n      <td>22.765049</td>\n      <td>75.912471</td>\n      <td>2022-03-19</td>\n      <td>11:30:00</td>\n      <td>11:45:00</td>\n      <td>Sunny</td>\n      <td>High</td>\n      <td>motorcycle</td>\n      <td>Urban</td>\n      <td>120</td>\n      <td>Clothing</td>\n    </tr>\n    <tr>\n      <th>1</th>\n      <td>akqg208421122</td>\n      <td>34</td>\n      <td>4.5</td>\n      <td>12.913041</td>\n      <td>77.683237</td>\n      <td>13.043041</td>\n      <td>77.813237</td>\n      <td>2022-03-25</td>\n      <td>19:45:00</td>\n      <td>19:50:00</td>\n      <td>Stormy</td>\n      <td>Jam</td>\n      <td>scooter</td>\n      <td>Metropolitian</td>\n      <td>165</td>\n      <td>Electronics</td>\n    </tr>\n    <tr>\n      <th>2</th>\n      <td>njpu434582536</td>\n      <td>23</td>\n      <td>4.4</td>\n      <td>12.914264</td>\n      <td>77.678400</td>\n      <td>12.924264</td>\n      <td>77.688400</td>\n      <td>2022-03-19</td>\n      <td>08:30:00</td>\n      <td>08:45:00</td>\n      <td>Sandstorms</td>\n      <td>Low</td>\n      <td>motorcycle</td>\n      <td>Urban</td>\n      <td>130</td>\n      <td>Sports</td>\n    </tr>\n    <tr>\n      <th>3</th>\n      <td>rjto796129700</td>\n      <td>38</td>\n      <td>4.7</td>\n      <td>11.003669</td>\n      <td>76.976494</td>\n      <td>11.053669</td>\n      <td>77.026494</td>\n      <td>2022-04-05</td>\n      <td>18:00:00</td>\n      <td>18:10:00</td>\n      <td>Sunny</td>\n      <td>Medium</td>\n      <td>motorcycle</td>\n      <td>Metropolitian</td>\n      <td>105</td>\n      <td>Cosmetics</td>\n    </tr>\n    <tr>\n      <th>4</th>\n      <td>zguw716275638</td>\n      <td>32</td>\n      <td>4.6</td>\n      <td>12.972793</td>\n      <td>80.249982</td>\n      <td>13.012793</td>\n      <td>80.289982</td>\n      <td>2022-03-26</td>\n      <td>13:30:00</td>\n      <td>13:45:00</td>\n      <td>Cloudy</td>\n      <td>High</td>\n      <td>scooter</td>\n      <td>Metropolitian</td>\n      <td>150</td>\n      <td>Toys</td>\n    </tr>\n  </tbody>\n</table>\n</div>"
     },
     "execution_count": 6,
     "metadata": {},
     "output_type": "execute_result"
    }
   ],
   "source": [
    "# load data recognizing various NA values\n",
    "df = pd.read_csv('../data/amazon_delivery.csv',  na_values=['NaN', 'NaN ', 'nan', 'nan ', 'null', ' null',  ''], skipinitialspace=True) # type: ignore\n",
    "\n",
    "# strip leading/trailing spaces from all string columns\n",
    "df = df.map(lambda x: x.strip() if isinstance(x, str) else x)\n",
    "df.head()"
   ],
   "metadata": {
    "collapsed": false,
    "ExecuteTime": {
     "end_time": "2025-04-09T07:57:20.314651Z",
     "start_time": "2025-04-09T07:57:20.162868Z"
    }
   },
   "id": "f45045f9a0447d70"
  },
  {
   "cell_type": "markdown",
   "source": [
    "**Note**\n",
    "After loading the dataset, extra spaces around string values and column names were removed, using .map() and .str.strip(). This ensured consistent formatting across the dataset for cleaner analysis."
   ],
   "metadata": {
    "collapsed": false
   },
   "id": "dcddd97095859626"
  },
  {
   "cell_type": "markdown",
   "source": [
    "## Step 1: Basic Data Inspection\n",
    "To understand the structure, column types, and missing values. This helps guide the cleaning and feature engineering process."
   ],
   "metadata": {
    "collapsed": false
   },
   "id": "e053eb107b43e6d3"
  },
  {
   "cell_type": "code",
   "execution_count": 8,
   "outputs": [
    {
     "name": "stdout",
     "output_type": "stream",
     "text": [
      "<class 'pandas.core.frame.DataFrame'>\n",
      "RangeIndex: 43739 entries, 0 to 43738\n",
      "Data columns (total 16 columns):\n",
      " #   Column           Non-Null Count  Dtype  \n",
      "---  ------           --------------  -----  \n",
      " 0   Order_ID         43739 non-null  object \n",
      " 1   Agent_Age        43739 non-null  int64  \n",
      " 2   Agent_Rating     43685 non-null  float64\n",
      " 3   Store_Latitude   43739 non-null  float64\n",
      " 4   Store_Longitude  43739 non-null  float64\n",
      " 5   Drop_Latitude    43739 non-null  float64\n",
      " 6   Drop_Longitude   43739 non-null  float64\n",
      " 7   Order_Date       43739 non-null  object \n",
      " 8   Order_Time       43648 non-null  object \n",
      " 9   Pickup_Time      43739 non-null  object \n",
      " 10  Weather          43648 non-null  object \n",
      " 11  Traffic          43648 non-null  object \n",
      " 12  Vehicle          43739 non-null  object \n",
      " 13  Area             43739 non-null  object \n",
      " 14  Delivery_Time    43739 non-null  int64  \n",
      " 15  Category         43739 non-null  object \n",
      "dtypes: float64(5), int64(2), object(9)\n",
      "memory usage: 5.3+ MB\n"
     ]
    },
    {
     "data": {
      "text/plain": "Order_ID            0\nAgent_Age           0\nAgent_Rating       54\nStore_Latitude      0\nStore_Longitude     0\nDrop_Latitude       0\nDrop_Longitude      0\nOrder_Date          0\nOrder_Time         91\nPickup_Time         0\nWeather            91\nTraffic            91\nVehicle             0\nArea                0\nDelivery_Time       0\nCategory            0\ndtype: int64"
     },
     "execution_count": 8,
     "metadata": {},
     "output_type": "execute_result"
    }
   ],
   "source": [
    "df.info()\n",
    "df.describe()\n",
    "df.isnull().sum()"
   ],
   "metadata": {
    "collapsed": false,
    "ExecuteTime": {
     "end_time": "2025-04-09T07:59:33.205931Z",
     "start_time": "2025-04-09T07:59:33.153497Z"
    }
   },
   "id": "6a53adfccd44a36d"
  },
  {
   "cell_type": "code",
   "execution_count": 9,
   "outputs": [
    {
     "data": {
      "text/plain": "Agent_Rating    54\nOrder_Time      91\nWeather         91\nTraffic         91\ndtype: int64"
     },
     "execution_count": 9,
     "metadata": {},
     "output_type": "execute_result"
    }
   ],
   "source": [
    "# get count of missing values >0 only\n",
    "df.isnull().sum()[df.isnull().sum()>0]"
   ],
   "metadata": {
    "collapsed": false,
    "ExecuteTime": {
     "end_time": "2025-04-09T08:02:13.486231Z",
     "start_time": "2025-04-09T08:02:13.450394Z"
    }
   },
   "id": "1212a8b73d6dddce"
  },
  {
   "cell_type": "markdown",
   "source": [
    "Dataset has __43,739 rows__ and __16 columns__\n",
    "Most columns have complete data, but __four have missing values__:\n",
    "- Agent_Rating: 54 missing\n",
    "- Order_Time: 91 missing\n",
    "- Weather: 91 missing\n",
    "- Traffic: 91 missing\n",
    "\n",
    "Columns by Type:\n",
    "- __Numerical (int/float)__: Agent_Age, Agent_Rating, Store_Latitude, Store_Longitude, Drop_Latitude, Drop_Longitude, Delivery_Time\n",
    "- __Categorical (object)__: Order_ID, Order_Date, Order_Time, Pickup_Time, Weather, Traffic, Vehicle, Area, Category"
   ],
   "metadata": {
    "collapsed": false
   },
   "id": "e7af604f70ccdfd2"
  },
  {
   "cell_type": "markdown",
   "source": [
    "## Step 2: Handling missing values\n",
    "\n",
    "- **Agent_Rating (54 rows)**: Filled using the mean to preserve distribution\n",
    "- **Order_Time (91 rows)**: Dropped to ensure clean datetime conversion\n",
    "- **Weather (91 rows)**: Filled using the most frequent value (mode)\n",
    "- **Traffic (91 rows)**: Filled using the most frequent value (mode)\n",
    "\n",
    "These strategies balance data quality and retention for accurate feature engineering."
   ],
   "metadata": {
    "collapsed": false
   },
   "id": "22f4bddf34abb6a7"
  },
  {
   "cell_type": "code",
   "execution_count": 10,
   "outputs": [],
   "source": [
    "# fill missing agent ratings with the mean value\n",
    "df['Agent_Rating'] = df['Agent_Rating'].fillna(df['Agent_Rating'].mean())"
   ],
   "metadata": {
    "collapsed": false,
    "ExecuteTime": {
     "end_time": "2025-04-09T08:06:09.289059Z",
     "start_time": "2025-04-09T08:06:09.279995Z"
    }
   },
   "id": "ebbd965ab1565d7b"
  },
  {
   "cell_type": "code",
   "execution_count": 11,
   "outputs": [],
   "source": [
    "# drop missing order time (safe: only 91 of 43,739)\n",
    "df = df.dropna(subset=['Order_Time'])"
   ],
   "metadata": {
    "collapsed": false,
    "ExecuteTime": {
     "end_time": "2025-04-09T08:07:10.607161Z",
     "start_time": "2025-04-09T08:07:10.591334Z"
    }
   },
   "id": "639dcbd599fc6a77"
  },
  {
   "cell_type": "code",
   "execution_count": 12,
   "outputs": [],
   "source": [
    "# fill missing weather values with the mode (most frequent value)\n",
    "df['Weather'] = df['Weather'].fillna(df['Weather'].mode()[0])"
   ],
   "metadata": {
    "collapsed": false,
    "ExecuteTime": {
     "end_time": "2025-04-09T08:07:42.657523Z",
     "start_time": "2025-04-09T08:07:42.646327Z"
    }
   },
   "id": "61c489d1863f62ff"
  },
  {
   "cell_type": "code",
   "execution_count": 13,
   "outputs": [],
   "source": [
    "# fill missing traffic values with the mode (most frequent value)\n",
    "df['Traffic'] = df['Traffic'].fillna(df['Traffic'].mode()[0])"
   ],
   "metadata": {
    "collapsed": false,
    "ExecuteTime": {
     "end_time": "2025-04-09T08:08:07.895408Z",
     "start_time": "2025-04-09T08:08:07.890901Z"
    }
   },
   "id": "85037404aa4a3591"
  },
  {
   "cell_type": "code",
   "execution_count": 14,
   "outputs": [
    {
     "data": {
      "text/plain": "Series([], dtype: int64)"
     },
     "execution_count": 14,
     "metadata": {},
     "output_type": "execute_result"
    }
   ],
   "source": [
    "# get count of missing values >0 to confirm\n",
    "df.isnull().sum()[df.isnull().sum()>0]"
   ],
   "metadata": {
    "collapsed": false,
    "ExecuteTime": {
     "end_time": "2025-04-09T08:08:32.999353Z",
     "start_time": "2025-04-09T08:08:32.963634Z"
    }
   },
   "id": "8372779e61ce8565"
  },
  {
   "cell_type": "markdown",
   "source": [
    "## Step 3: Datetime Conversion\n",
    "- Combine Order_Date and Order_time into oder_datetime\n",
    "- Convert Pickup_Time and Delivery_Time\n",
    "- Create time duration features\n",
    "\n",
    "This step is essential to enable time-based analysis of delivery performance, delays, and efficiency. It also allows us to engineer new features based on delivery timelines. "
   ],
   "metadata": {
    "collapsed": false
   },
   "id": "a2c3e99bbea34078"
  },
  {
   "cell_type": "code",
   "execution_count": 40,
   "outputs": [],
   "source": [
    "# combine order_date and order_Time\n",
    "df['order_datetime'] = pd.to_datetime(df['Order_Date'] + ' ' + df['Order_Time'])\n",
    "\n",
    "# combine order_date and pickup_time first, and fix pickup_datetime if it is earlier than order_datetime (next day pickup)\n",
    "df['pickup_datetime'] = pd.to_datetime(df['Order_Date'] + ' ' + df['Pickup_Time'])\n",
    "df.loc[df['pickup_datetime'] < df['order_datetime'], 'pickup_datetime'] += pd.Timedelta(days=1)\n",
    "\n",
    "# calculate delivery_datetime by adding Delivery_Time to pickup_datetime\n",
    "df['delivery_datetime'] = df['pickup_datetime'] + pd.to_timedelta(df['Delivery_Time'], unit='m')"
   ],
   "metadata": {
    "collapsed": false,
    "ExecuteTime": {
     "end_time": "2025-04-09T09:04:21.853513Z",
     "start_time": "2025-04-09T09:04:21.826645Z"
    }
   },
   "id": "9132e271730b9155"
  },
  {
   "cell_type": "code",
   "execution_count": 41,
   "outputs": [
    {
     "data": {
      "text/plain": "       order_datetime     pickup_datetime   delivery_datetime\n0 2022-03-19 11:30:00 2022-03-19 11:45:00 2022-03-19 13:45:00\n1 2022-03-25 19:45:00 2022-03-25 19:50:00 2022-03-25 22:35:00\n2 2022-03-19 08:30:00 2022-03-19 08:45:00 2022-03-19 10:55:00\n3 2022-04-05 18:00:00 2022-04-05 18:10:00 2022-04-05 19:55:00\n4 2022-03-26 13:30:00 2022-03-26 13:45:00 2022-03-26 16:15:00",
      "text/html": "<div>\n<style scoped>\n    .dataframe tbody tr th:only-of-type {\n        vertical-align: middle;\n    }\n\n    .dataframe tbody tr th {\n        vertical-align: top;\n    }\n\n    .dataframe thead th {\n        text-align: right;\n    }\n</style>\n<table border=\"1\" class=\"dataframe\">\n  <thead>\n    <tr style=\"text-align: right;\">\n      <th></th>\n      <th>order_datetime</th>\n      <th>pickup_datetime</th>\n      <th>delivery_datetime</th>\n    </tr>\n  </thead>\n  <tbody>\n    <tr>\n      <th>0</th>\n      <td>2022-03-19 11:30:00</td>\n      <td>2022-03-19 11:45:00</td>\n      <td>2022-03-19 13:45:00</td>\n    </tr>\n    <tr>\n      <th>1</th>\n      <td>2022-03-25 19:45:00</td>\n      <td>2022-03-25 19:50:00</td>\n      <td>2022-03-25 22:35:00</td>\n    </tr>\n    <tr>\n      <th>2</th>\n      <td>2022-03-19 08:30:00</td>\n      <td>2022-03-19 08:45:00</td>\n      <td>2022-03-19 10:55:00</td>\n    </tr>\n    <tr>\n      <th>3</th>\n      <td>2022-04-05 18:00:00</td>\n      <td>2022-04-05 18:10:00</td>\n      <td>2022-04-05 19:55:00</td>\n    </tr>\n    <tr>\n      <th>4</th>\n      <td>2022-03-26 13:30:00</td>\n      <td>2022-03-26 13:45:00</td>\n      <td>2022-03-26 16:15:00</td>\n    </tr>\n  </tbody>\n</table>\n</div>"
     },
     "execution_count": 41,
     "metadata": {},
     "output_type": "execute_result"
    }
   ],
   "source": [
    "# preview the new datetime columns\n",
    "df[['order_datetime', 'pickup_datetime', 'delivery_datetime']].head()"
   ],
   "metadata": {
    "collapsed": false,
    "ExecuteTime": {
     "end_time": "2025-04-09T09:04:29.661074Z",
     "start_time": "2025-04-09T09:04:29.651905Z"
    }
   },
   "id": "a676f2bfea27b51"
  },
  {
   "cell_type": "code",
   "execution_count": 22,
   "outputs": [
    {
     "data": {
      "text/plain": "order_datetime       datetime64[ns]\npickup_datetime      datetime64[ns]\ndelivery_datetime    datetime64[ns]\ndtype: object"
     },
     "execution_count": 22,
     "metadata": {},
     "output_type": "execute_result"
    }
   ],
   "source": [
    "# check data types\n",
    "df[['order_datetime', 'pickup_datetime', 'delivery_datetime']].dtypes"
   ],
   "metadata": {
    "collapsed": false,
    "ExecuteTime": {
     "end_time": "2025-04-09T08:23:42.971003Z",
     "start_time": "2025-04-09T08:23:42.959362Z"
    }
   },
   "id": "7a0dbcb977404e6e"
  },
  {
   "cell_type": "markdown",
   "source": [
    "**Note**\n",
    "\n",
    "*pickup_datetime*\n",
    "The initial datetime construction for `pickup_datetime` assumed that pickup always occurred on the same day as the order. However, some pickups occurred after midnight, resulting in a timestamp earlier than the order. To resolve this, a conditional adjustment was applied to shift `pickup_datetime` by one day when it fell before `order_datetime`.\n",
    "\n",
    "*delivery_datetime*\n",
    "Originally, Delivery_Time was assumed to represent minutes since the Unix epoch. However, after inspecting the column's values and previewing the output, it was confirmed that this field reflects that duration from pickup to delivery in minutes. To accurately reconstruct the delivery timestamp, Delivery_Time was added to pickup_datetime using pd.to_timedelta. This approach ensures proper temporal sequencing for duration-based analysis."
   ],
   "metadata": {
    "collapsed": false
   },
   "id": "d2be153611cbb172"
  },
  {
   "cell_type": "code",
   "execution_count": 42,
   "outputs": [],
   "source": [
    "# time from order to pickup (in minutes)\n",
    "df['order_to_pickup_mins'] = (df['pickup_datetime'] - df['order_datetime']).dt.total_seconds() / 60\n",
    "\n",
    "# time from pickup to delivery (last mile)\n",
    "df['pickup_to_delivery_mins'] = (df['delivery_datetime'] - df['pickup_datetime']).dt.total_seconds() / 60\n",
    "\n",
    "# total time from order to delivery\n",
    "df['total_fulfillment_mins'] = (df['delivery_datetime'] - df['order_datetime']).dt.total_seconds() / 60"
   ],
   "metadata": {
    "collapsed": false,
    "ExecuteTime": {
     "end_time": "2025-04-09T09:05:59.416261Z",
     "start_time": "2025-04-09T09:05:59.404064Z"
    }
   },
   "id": "9b0b356d97560b95"
  },
  {
   "cell_type": "markdown",
   "source": [
    "Additional features were created to capture key time intervals in the delivery process:\n",
    "\n",
    "- `order_to_pickup_mins`: minutes between order placement and pickup\n",
    "- `pickup_to_delivery_mins`: minutes between pickup and final delivery\n",
    "- `total_fulfillment_mins`: total duration from order to delivery"
   ],
   "metadata": {
    "collapsed": false
   },
   "id": "58fb20674c57303e"
  },
  {
   "cell_type": "markdown",
   "source": [
    "## Step 4: Geospatial Feature Engineering\n",
    "\n",
    "To support location-based analysis and evaluate route efficiency, a new feature 'distance_km' was engineered using the Haversine formula. This metric calculates the straight-line distance between the store and the drop-off location, based on their latitude and longitude coordinates.\n",
    "\n",
    "To improve performance, the distance between store and drop-off locations was calculated using a vectorized implementation of the Haversine formula. This method leverages NumPy operations to compute distances across the dataset more efficiently than row-wise `.apply()`, while producing the same result.\n",
    "\n",
    "The distance calculation using `.apply()` and the `haversine` package was compared with a NumPy vectorized version of the same formula. Minor differences in output were observed due to floating-point precision, but both methods produced functionally equivalent results for last-mile delivery analysis. The vectorized approach was preferred for performance scalability.\n"
   ],
   "metadata": {
    "collapsed": false
   },
   "id": "9b51aa8511fe8be1"
  },
  {
   "cell_type": "markdown",
   "source": [
    "### Coordinate correction for Store_Latitude\n",
    "\n",
    "Some rows had negative `Store_Latitude` values that placed the store in a different hemisphere than the drop-off location. A correction step was applied to flip the sign of `Store_Latitude` **only when doing so significantly reduced the calculated distance**."
   ],
   "metadata": {
    "collapsed": false
   },
   "id": "95bb5e935623431"
  },
  {
   "cell_type": "code",
   "execution_count": 52,
   "outputs": [
    {
     "data": {
      "text/plain": "            Order_ID  Agent_Age  Agent_Rating  Store_Latitude  \\\n90     hnme204254454         34           4.7      -27.163303   \n275    mctx146223837         32           4.7      -27.165108   \n1045   jxrf169692899         20           4.7      -15.546594   \n1705   csyn869746139         39           4.5      -23.230791   \n1893   bocx711605816         25           4.0      -22.539129   \n...              ...        ...           ...             ...   \n42071  lzux792298119         32           4.6      -15.498603   \n42252  lpkh473392828         22           5.0      -15.157944   \n42824  nnam562968751         23           4.8       -9.982834   \n43105  pvcj122440792         30           4.9      -19.874733   \n43343  ewwo088934804         30           4.0      -26.482581   \n\n       Store_Longitude  Drop_Latitude  Drop_Longitude  Order_Date Order_Time  \\\n90           78.057044      27.233303       78.127044  2022-02-16   23:00:00   \n275          78.015053      27.225108       78.075053  2022-02-13   20:55:00   \n1045         73.760431      15.606594       73.820431  2022-02-13   20:00:00   \n1705         77.437020      23.250791       77.457020  2022-02-13   09:15:00   \n1893         88.365507      22.549129       88.375507  2022-02-15   09:25:00   \n...                ...            ...             ...         ...        ...   \n42071        73.826911      15.568603       73.896911  2022-02-18   23:10:00   \n42252        73.950889      15.217944       74.010889  2022-02-17   18:50:00   \n42824        76.283268      10.072834       76.373268  2022-02-14   19:20:00   \n43105        75.353942      19.904733       75.383942  2022-02-15   22:20:00   \n43343        80.315628      26.532581       80.365628  2022-02-17   22:25:00   \n\n      Pickup_Time  ...           Area Delivery_Time      Category  \\\n90       23:05:00  ...  Metropolitian            75      Clothing   \n275      21:10:00  ...  Metropolitian           155      Clothing   \n1045     20:10:00  ...  Metropolitian           145          Toys   \n1705     09:20:00  ...  Metropolitian           145         Books   \n1893     09:30:00  ...  Metropolitian            95          Toys   \n...           ...  ...            ...           ...           ...   \n42071    23:15:00  ...  Metropolitian           120          Toys   \n42252    18:55:00  ...  Metropolitian           135        Sports   \n42824    19:35:00  ...  Metropolitian           105        Sports   \n43105    22:35:00  ...  Metropolitian            75  Pet Supplies   \n43343    22:40:00  ...  Metropolitian           170        Sports   \n\n           order_datetime     pickup_datetime   delivery_datetime  \\\n90    2022-02-16 23:00:00 2022-02-16 23:05:00 2022-02-17 00:20:00   \n275   2022-02-13 20:55:00 2022-02-13 21:10:00 2022-02-13 23:45:00   \n1045  2022-02-13 20:00:00 2022-02-13 20:10:00 2022-02-13 22:35:00   \n1705  2022-02-13 09:15:00 2022-02-13 09:20:00 2022-02-13 11:45:00   \n1893  2022-02-15 09:25:00 2022-02-15 09:30:00 2022-02-15 11:05:00   \n...                   ...                 ...                 ...   \n42071 2022-02-18 23:10:00 2022-02-18 23:15:00 2022-02-19 01:15:00   \n42252 2022-02-17 18:50:00 2022-02-17 18:55:00 2022-02-17 21:10:00   \n42824 2022-02-14 19:20:00 2022-02-14 19:35:00 2022-02-14 21:20:00   \n43105 2022-02-15 22:20:00 2022-02-15 22:35:00 2022-02-15 23:50:00   \n43343 2022-02-17 22:25:00 2022-02-17 22:40:00 2022-02-18 01:30:00   \n\n       distance_km order_to_pickup_mins pickup_to_delivery_mins  \\\n90     6048.631240                  5.0                    75.0   \n275    6047.919478                 15.0                   155.0   \n1045   3464.082720                 10.0                   145.0   \n1705   5168.516553                  5.0                   145.0   \n1893   5013.585658                  5.0                    95.0   \n...            ...                  ...                     ...   \n42071  3454.524245                  5.0                   120.0   \n42252  3377.651072                  5.0                   135.0   \n42824  2230.110757                 15.0                   105.0   \n43105  4423.276011                 15.0                    75.0   \n43343  5895.019482                 15.0                   170.0   \n\n       total_fulfillment_mins  \n90                       80.0  \n275                     170.0  \n1045                    155.0  \n1705                    150.0  \n1893                    100.0  \n...                       ...  \n42071                   125.0  \n42252                   140.0  \n42824                   120.0  \n43105                    90.0  \n43343                   185.0  \n\n[156 rows x 23 columns]",
      "text/html": "<div>\n<style scoped>\n    .dataframe tbody tr th:only-of-type {\n        vertical-align: middle;\n    }\n\n    .dataframe tbody tr th {\n        vertical-align: top;\n    }\n\n    .dataframe thead th {\n        text-align: right;\n    }\n</style>\n<table border=\"1\" class=\"dataframe\">\n  <thead>\n    <tr style=\"text-align: right;\">\n      <th></th>\n      <th>Order_ID</th>\n      <th>Agent_Age</th>\n      <th>Agent_Rating</th>\n      <th>Store_Latitude</th>\n      <th>Store_Longitude</th>\n      <th>Drop_Latitude</th>\n      <th>Drop_Longitude</th>\n      <th>Order_Date</th>\n      <th>Order_Time</th>\n      <th>Pickup_Time</th>\n      <th>...</th>\n      <th>Area</th>\n      <th>Delivery_Time</th>\n      <th>Category</th>\n      <th>order_datetime</th>\n      <th>pickup_datetime</th>\n      <th>delivery_datetime</th>\n      <th>distance_km</th>\n      <th>order_to_pickup_mins</th>\n      <th>pickup_to_delivery_mins</th>\n      <th>total_fulfillment_mins</th>\n    </tr>\n  </thead>\n  <tbody>\n    <tr>\n      <th>90</th>\n      <td>hnme204254454</td>\n      <td>34</td>\n      <td>4.7</td>\n      <td>-27.163303</td>\n      <td>78.057044</td>\n      <td>27.233303</td>\n      <td>78.127044</td>\n      <td>2022-02-16</td>\n      <td>23:00:00</td>\n      <td>23:05:00</td>\n      <td>...</td>\n      <td>Metropolitian</td>\n      <td>75</td>\n      <td>Clothing</td>\n      <td>2022-02-16 23:00:00</td>\n      <td>2022-02-16 23:05:00</td>\n      <td>2022-02-17 00:20:00</td>\n      <td>6048.631240</td>\n      <td>5.0</td>\n      <td>75.0</td>\n      <td>80.0</td>\n    </tr>\n    <tr>\n      <th>275</th>\n      <td>mctx146223837</td>\n      <td>32</td>\n      <td>4.7</td>\n      <td>-27.165108</td>\n      <td>78.015053</td>\n      <td>27.225108</td>\n      <td>78.075053</td>\n      <td>2022-02-13</td>\n      <td>20:55:00</td>\n      <td>21:10:00</td>\n      <td>...</td>\n      <td>Metropolitian</td>\n      <td>155</td>\n      <td>Clothing</td>\n      <td>2022-02-13 20:55:00</td>\n      <td>2022-02-13 21:10:00</td>\n      <td>2022-02-13 23:45:00</td>\n      <td>6047.919478</td>\n      <td>15.0</td>\n      <td>155.0</td>\n      <td>170.0</td>\n    </tr>\n    <tr>\n      <th>1045</th>\n      <td>jxrf169692899</td>\n      <td>20</td>\n      <td>4.7</td>\n      <td>-15.546594</td>\n      <td>73.760431</td>\n      <td>15.606594</td>\n      <td>73.820431</td>\n      <td>2022-02-13</td>\n      <td>20:00:00</td>\n      <td>20:10:00</td>\n      <td>...</td>\n      <td>Metropolitian</td>\n      <td>145</td>\n      <td>Toys</td>\n      <td>2022-02-13 20:00:00</td>\n      <td>2022-02-13 20:10:00</td>\n      <td>2022-02-13 22:35:00</td>\n      <td>3464.082720</td>\n      <td>10.0</td>\n      <td>145.0</td>\n      <td>155.0</td>\n    </tr>\n    <tr>\n      <th>1705</th>\n      <td>csyn869746139</td>\n      <td>39</td>\n      <td>4.5</td>\n      <td>-23.230791</td>\n      <td>77.437020</td>\n      <td>23.250791</td>\n      <td>77.457020</td>\n      <td>2022-02-13</td>\n      <td>09:15:00</td>\n      <td>09:20:00</td>\n      <td>...</td>\n      <td>Metropolitian</td>\n      <td>145</td>\n      <td>Books</td>\n      <td>2022-02-13 09:15:00</td>\n      <td>2022-02-13 09:20:00</td>\n      <td>2022-02-13 11:45:00</td>\n      <td>5168.516553</td>\n      <td>5.0</td>\n      <td>145.0</td>\n      <td>150.0</td>\n    </tr>\n    <tr>\n      <th>1893</th>\n      <td>bocx711605816</td>\n      <td>25</td>\n      <td>4.0</td>\n      <td>-22.539129</td>\n      <td>88.365507</td>\n      <td>22.549129</td>\n      <td>88.375507</td>\n      <td>2022-02-15</td>\n      <td>09:25:00</td>\n      <td>09:30:00</td>\n      <td>...</td>\n      <td>Metropolitian</td>\n      <td>95</td>\n      <td>Toys</td>\n      <td>2022-02-15 09:25:00</td>\n      <td>2022-02-15 09:30:00</td>\n      <td>2022-02-15 11:05:00</td>\n      <td>5013.585658</td>\n      <td>5.0</td>\n      <td>95.0</td>\n      <td>100.0</td>\n    </tr>\n    <tr>\n      <th>...</th>\n      <td>...</td>\n      <td>...</td>\n      <td>...</td>\n      <td>...</td>\n      <td>...</td>\n      <td>...</td>\n      <td>...</td>\n      <td>...</td>\n      <td>...</td>\n      <td>...</td>\n      <td>...</td>\n      <td>...</td>\n      <td>...</td>\n      <td>...</td>\n      <td>...</td>\n      <td>...</td>\n      <td>...</td>\n      <td>...</td>\n      <td>...</td>\n      <td>...</td>\n      <td>...</td>\n    </tr>\n    <tr>\n      <th>42071</th>\n      <td>lzux792298119</td>\n      <td>32</td>\n      <td>4.6</td>\n      <td>-15.498603</td>\n      <td>73.826911</td>\n      <td>15.568603</td>\n      <td>73.896911</td>\n      <td>2022-02-18</td>\n      <td>23:10:00</td>\n      <td>23:15:00</td>\n      <td>...</td>\n      <td>Metropolitian</td>\n      <td>120</td>\n      <td>Toys</td>\n      <td>2022-02-18 23:10:00</td>\n      <td>2022-02-18 23:15:00</td>\n      <td>2022-02-19 01:15:00</td>\n      <td>3454.524245</td>\n      <td>5.0</td>\n      <td>120.0</td>\n      <td>125.0</td>\n    </tr>\n    <tr>\n      <th>42252</th>\n      <td>lpkh473392828</td>\n      <td>22</td>\n      <td>5.0</td>\n      <td>-15.157944</td>\n      <td>73.950889</td>\n      <td>15.217944</td>\n      <td>74.010889</td>\n      <td>2022-02-17</td>\n      <td>18:50:00</td>\n      <td>18:55:00</td>\n      <td>...</td>\n      <td>Metropolitian</td>\n      <td>135</td>\n      <td>Sports</td>\n      <td>2022-02-17 18:50:00</td>\n      <td>2022-02-17 18:55:00</td>\n      <td>2022-02-17 21:10:00</td>\n      <td>3377.651072</td>\n      <td>5.0</td>\n      <td>135.0</td>\n      <td>140.0</td>\n    </tr>\n    <tr>\n      <th>42824</th>\n      <td>nnam562968751</td>\n      <td>23</td>\n      <td>4.8</td>\n      <td>-9.982834</td>\n      <td>76.283268</td>\n      <td>10.072834</td>\n      <td>76.373268</td>\n      <td>2022-02-14</td>\n      <td>19:20:00</td>\n      <td>19:35:00</td>\n      <td>...</td>\n      <td>Metropolitian</td>\n      <td>105</td>\n      <td>Sports</td>\n      <td>2022-02-14 19:20:00</td>\n      <td>2022-02-14 19:35:00</td>\n      <td>2022-02-14 21:20:00</td>\n      <td>2230.110757</td>\n      <td>15.0</td>\n      <td>105.0</td>\n      <td>120.0</td>\n    </tr>\n    <tr>\n      <th>43105</th>\n      <td>pvcj122440792</td>\n      <td>30</td>\n      <td>4.9</td>\n      <td>-19.874733</td>\n      <td>75.353942</td>\n      <td>19.904733</td>\n      <td>75.383942</td>\n      <td>2022-02-15</td>\n      <td>22:20:00</td>\n      <td>22:35:00</td>\n      <td>...</td>\n      <td>Metropolitian</td>\n      <td>75</td>\n      <td>Pet Supplies</td>\n      <td>2022-02-15 22:20:00</td>\n      <td>2022-02-15 22:35:00</td>\n      <td>2022-02-15 23:50:00</td>\n      <td>4423.276011</td>\n      <td>15.0</td>\n      <td>75.0</td>\n      <td>90.0</td>\n    </tr>\n    <tr>\n      <th>43343</th>\n      <td>ewwo088934804</td>\n      <td>30</td>\n      <td>4.0</td>\n      <td>-26.482581</td>\n      <td>80.315628</td>\n      <td>26.532581</td>\n      <td>80.365628</td>\n      <td>2022-02-17</td>\n      <td>22:25:00</td>\n      <td>22:40:00</td>\n      <td>...</td>\n      <td>Metropolitian</td>\n      <td>170</td>\n      <td>Sports</td>\n      <td>2022-02-17 22:25:00</td>\n      <td>2022-02-17 22:40:00</td>\n      <td>2022-02-18 01:30:00</td>\n      <td>5895.019482</td>\n      <td>15.0</td>\n      <td>170.0</td>\n      <td>185.0</td>\n    </tr>\n  </tbody>\n</table>\n<p>156 rows × 23 columns</p>\n</div>"
     },
     "execution_count": 52,
     "metadata": {},
     "output_type": "execute_result"
    }
   ],
   "source": [
    "# identify rows where Store_Latitude and Drop_Latitude have different signs\n",
    "mask_diff_signs = (df['Store_Latitude'] * df['Drop_Latitude'] < 0)\n",
    "df[mask_diff_signs==True]"
   ],
   "metadata": {
    "collapsed": false,
    "ExecuteTime": {
     "end_time": "2025-04-09T12:51:05.974457Z",
     "start_time": "2025-04-09T12:51:05.961457Z"
    }
   },
   "id": "c40eeb68ee9c9e78"
  },
  {
   "cell_type": "code",
   "execution_count": 53,
   "outputs": [
    {
     "data": {
      "text/plain": "            Order_ID  Agent_Age  Agent_Rating  Store_Latitude  \\\n90     hnme204254454         34           4.7       27.163303   \n275    mctx146223837         32           4.7       27.165108   \n1045   jxrf169692899         20           4.7       15.546594   \n1705   csyn869746139         39           4.5       23.230791   \n1893   bocx711605816         25           4.0       22.539129   \n...              ...        ...           ...             ...   \n42071  lzux792298119         32           4.6       15.498603   \n42252  lpkh473392828         22           5.0       15.157944   \n42824  nnam562968751         23           4.8        9.982834   \n43105  pvcj122440792         30           4.9       19.874733   \n43343  ewwo088934804         30           4.0       26.482581   \n\n       Store_Longitude  Drop_Latitude  Drop_Longitude  Order_Date Order_Time  \\\n90           78.057044      27.233303       78.127044  2022-02-16   23:00:00   \n275          78.015053      27.225108       78.075053  2022-02-13   20:55:00   \n1045         73.760431      15.606594       73.820431  2022-02-13   20:00:00   \n1705         77.437020      23.250791       77.457020  2022-02-13   09:15:00   \n1893         88.365507      22.549129       88.375507  2022-02-15   09:25:00   \n...                ...            ...             ...         ...        ...   \n42071        73.826911      15.568603       73.896911  2022-02-18   23:10:00   \n42252        73.950889      15.217944       74.010889  2022-02-17   18:50:00   \n42824        76.283268      10.072834       76.373268  2022-02-14   19:20:00   \n43105        75.353942      19.904733       75.383942  2022-02-15   22:20:00   \n43343        80.315628      26.532581       80.365628  2022-02-17   22:25:00   \n\n      Pickup_Time  ...           Area Delivery_Time      Category  \\\n90       23:05:00  ...  Metropolitian            75      Clothing   \n275      21:10:00  ...  Metropolitian           155      Clothing   \n1045     20:10:00  ...  Metropolitian           145          Toys   \n1705     09:20:00  ...  Metropolitian           145         Books   \n1893     09:30:00  ...  Metropolitian            95          Toys   \n...           ...  ...            ...           ...           ...   \n42071    23:15:00  ...  Metropolitian           120          Toys   \n42252    18:55:00  ...  Metropolitian           135        Sports   \n42824    19:35:00  ...  Metropolitian           105        Sports   \n43105    22:35:00  ...  Metropolitian            75  Pet Supplies   \n43343    22:40:00  ...  Metropolitian           170        Sports   \n\n           order_datetime     pickup_datetime   delivery_datetime  \\\n90    2022-02-16 23:00:00 2022-02-16 23:05:00 2022-02-17 00:20:00   \n275   2022-02-13 20:55:00 2022-02-13 21:10:00 2022-02-13 23:45:00   \n1045  2022-02-13 20:00:00 2022-02-13 20:10:00 2022-02-13 22:35:00   \n1705  2022-02-13 09:15:00 2022-02-13 09:20:00 2022-02-13 11:45:00   \n1893  2022-02-15 09:25:00 2022-02-15 09:30:00 2022-02-15 11:05:00   \n...                   ...                 ...                 ...   \n42071 2022-02-18 23:10:00 2022-02-18 23:15:00 2022-02-19 01:15:00   \n42252 2022-02-17 18:50:00 2022-02-17 18:55:00 2022-02-17 21:10:00   \n42824 2022-02-14 19:20:00 2022-02-14 19:35:00 2022-02-14 21:20:00   \n43105 2022-02-15 22:20:00 2022-02-15 22:35:00 2022-02-15 23:50:00   \n43343 2022-02-17 22:25:00 2022-02-17 22:40:00 2022-02-18 01:30:00   \n\n       distance_km order_to_pickup_mins pickup_to_delivery_mins  \\\n90     6048.631240                  5.0                    75.0   \n275    6047.919478                 15.0                   155.0   \n1045   3464.082720                 10.0                   145.0   \n1705   5168.516553                  5.0                   145.0   \n1893   5013.585658                  5.0                    95.0   \n...            ...                  ...                     ...   \n42071  3454.524245                  5.0                   120.0   \n42252  3377.651072                  5.0                   135.0   \n42824  2230.110757                 15.0                   105.0   \n43105  4423.276011                 15.0                    75.0   \n43343  5895.019482                 15.0                   170.0   \n\n       total_fulfillment_mins  \n90                       80.0  \n275                     170.0  \n1045                    155.0  \n1705                    150.0  \n1893                    100.0  \n...                       ...  \n42071                   125.0  \n42252                   140.0  \n42824                   120.0  \n43105                    90.0  \n43343                   185.0  \n\n[156 rows x 23 columns]",
      "text/html": "<div>\n<style scoped>\n    .dataframe tbody tr th:only-of-type {\n        vertical-align: middle;\n    }\n\n    .dataframe tbody tr th {\n        vertical-align: top;\n    }\n\n    .dataframe thead th {\n        text-align: right;\n    }\n</style>\n<table border=\"1\" class=\"dataframe\">\n  <thead>\n    <tr style=\"text-align: right;\">\n      <th></th>\n      <th>Order_ID</th>\n      <th>Agent_Age</th>\n      <th>Agent_Rating</th>\n      <th>Store_Latitude</th>\n      <th>Store_Longitude</th>\n      <th>Drop_Latitude</th>\n      <th>Drop_Longitude</th>\n      <th>Order_Date</th>\n      <th>Order_Time</th>\n      <th>Pickup_Time</th>\n      <th>...</th>\n      <th>Area</th>\n      <th>Delivery_Time</th>\n      <th>Category</th>\n      <th>order_datetime</th>\n      <th>pickup_datetime</th>\n      <th>delivery_datetime</th>\n      <th>distance_km</th>\n      <th>order_to_pickup_mins</th>\n      <th>pickup_to_delivery_mins</th>\n      <th>total_fulfillment_mins</th>\n    </tr>\n  </thead>\n  <tbody>\n    <tr>\n      <th>90</th>\n      <td>hnme204254454</td>\n      <td>34</td>\n      <td>4.7</td>\n      <td>27.163303</td>\n      <td>78.057044</td>\n      <td>27.233303</td>\n      <td>78.127044</td>\n      <td>2022-02-16</td>\n      <td>23:00:00</td>\n      <td>23:05:00</td>\n      <td>...</td>\n      <td>Metropolitian</td>\n      <td>75</td>\n      <td>Clothing</td>\n      <td>2022-02-16 23:00:00</td>\n      <td>2022-02-16 23:05:00</td>\n      <td>2022-02-17 00:20:00</td>\n      <td>6048.631240</td>\n      <td>5.0</td>\n      <td>75.0</td>\n      <td>80.0</td>\n    </tr>\n    <tr>\n      <th>275</th>\n      <td>mctx146223837</td>\n      <td>32</td>\n      <td>4.7</td>\n      <td>27.165108</td>\n      <td>78.015053</td>\n      <td>27.225108</td>\n      <td>78.075053</td>\n      <td>2022-02-13</td>\n      <td>20:55:00</td>\n      <td>21:10:00</td>\n      <td>...</td>\n      <td>Metropolitian</td>\n      <td>155</td>\n      <td>Clothing</td>\n      <td>2022-02-13 20:55:00</td>\n      <td>2022-02-13 21:10:00</td>\n      <td>2022-02-13 23:45:00</td>\n      <td>6047.919478</td>\n      <td>15.0</td>\n      <td>155.0</td>\n      <td>170.0</td>\n    </tr>\n    <tr>\n      <th>1045</th>\n      <td>jxrf169692899</td>\n      <td>20</td>\n      <td>4.7</td>\n      <td>15.546594</td>\n      <td>73.760431</td>\n      <td>15.606594</td>\n      <td>73.820431</td>\n      <td>2022-02-13</td>\n      <td>20:00:00</td>\n      <td>20:10:00</td>\n      <td>...</td>\n      <td>Metropolitian</td>\n      <td>145</td>\n      <td>Toys</td>\n      <td>2022-02-13 20:00:00</td>\n      <td>2022-02-13 20:10:00</td>\n      <td>2022-02-13 22:35:00</td>\n      <td>3464.082720</td>\n      <td>10.0</td>\n      <td>145.0</td>\n      <td>155.0</td>\n    </tr>\n    <tr>\n      <th>1705</th>\n      <td>csyn869746139</td>\n      <td>39</td>\n      <td>4.5</td>\n      <td>23.230791</td>\n      <td>77.437020</td>\n      <td>23.250791</td>\n      <td>77.457020</td>\n      <td>2022-02-13</td>\n      <td>09:15:00</td>\n      <td>09:20:00</td>\n      <td>...</td>\n      <td>Metropolitian</td>\n      <td>145</td>\n      <td>Books</td>\n      <td>2022-02-13 09:15:00</td>\n      <td>2022-02-13 09:20:00</td>\n      <td>2022-02-13 11:45:00</td>\n      <td>5168.516553</td>\n      <td>5.0</td>\n      <td>145.0</td>\n      <td>150.0</td>\n    </tr>\n    <tr>\n      <th>1893</th>\n      <td>bocx711605816</td>\n      <td>25</td>\n      <td>4.0</td>\n      <td>22.539129</td>\n      <td>88.365507</td>\n      <td>22.549129</td>\n      <td>88.375507</td>\n      <td>2022-02-15</td>\n      <td>09:25:00</td>\n      <td>09:30:00</td>\n      <td>...</td>\n      <td>Metropolitian</td>\n      <td>95</td>\n      <td>Toys</td>\n      <td>2022-02-15 09:25:00</td>\n      <td>2022-02-15 09:30:00</td>\n      <td>2022-02-15 11:05:00</td>\n      <td>5013.585658</td>\n      <td>5.0</td>\n      <td>95.0</td>\n      <td>100.0</td>\n    </tr>\n    <tr>\n      <th>...</th>\n      <td>...</td>\n      <td>...</td>\n      <td>...</td>\n      <td>...</td>\n      <td>...</td>\n      <td>...</td>\n      <td>...</td>\n      <td>...</td>\n      <td>...</td>\n      <td>...</td>\n      <td>...</td>\n      <td>...</td>\n      <td>...</td>\n      <td>...</td>\n      <td>...</td>\n      <td>...</td>\n      <td>...</td>\n      <td>...</td>\n      <td>...</td>\n      <td>...</td>\n      <td>...</td>\n    </tr>\n    <tr>\n      <th>42071</th>\n      <td>lzux792298119</td>\n      <td>32</td>\n      <td>4.6</td>\n      <td>15.498603</td>\n      <td>73.826911</td>\n      <td>15.568603</td>\n      <td>73.896911</td>\n      <td>2022-02-18</td>\n      <td>23:10:00</td>\n      <td>23:15:00</td>\n      <td>...</td>\n      <td>Metropolitian</td>\n      <td>120</td>\n      <td>Toys</td>\n      <td>2022-02-18 23:10:00</td>\n      <td>2022-02-18 23:15:00</td>\n      <td>2022-02-19 01:15:00</td>\n      <td>3454.524245</td>\n      <td>5.0</td>\n      <td>120.0</td>\n      <td>125.0</td>\n    </tr>\n    <tr>\n      <th>42252</th>\n      <td>lpkh473392828</td>\n      <td>22</td>\n      <td>5.0</td>\n      <td>15.157944</td>\n      <td>73.950889</td>\n      <td>15.217944</td>\n      <td>74.010889</td>\n      <td>2022-02-17</td>\n      <td>18:50:00</td>\n      <td>18:55:00</td>\n      <td>...</td>\n      <td>Metropolitian</td>\n      <td>135</td>\n      <td>Sports</td>\n      <td>2022-02-17 18:50:00</td>\n      <td>2022-02-17 18:55:00</td>\n      <td>2022-02-17 21:10:00</td>\n      <td>3377.651072</td>\n      <td>5.0</td>\n      <td>135.0</td>\n      <td>140.0</td>\n    </tr>\n    <tr>\n      <th>42824</th>\n      <td>nnam562968751</td>\n      <td>23</td>\n      <td>4.8</td>\n      <td>9.982834</td>\n      <td>76.283268</td>\n      <td>10.072834</td>\n      <td>76.373268</td>\n      <td>2022-02-14</td>\n      <td>19:20:00</td>\n      <td>19:35:00</td>\n      <td>...</td>\n      <td>Metropolitian</td>\n      <td>105</td>\n      <td>Sports</td>\n      <td>2022-02-14 19:20:00</td>\n      <td>2022-02-14 19:35:00</td>\n      <td>2022-02-14 21:20:00</td>\n      <td>2230.110757</td>\n      <td>15.0</td>\n      <td>105.0</td>\n      <td>120.0</td>\n    </tr>\n    <tr>\n      <th>43105</th>\n      <td>pvcj122440792</td>\n      <td>30</td>\n      <td>4.9</td>\n      <td>19.874733</td>\n      <td>75.353942</td>\n      <td>19.904733</td>\n      <td>75.383942</td>\n      <td>2022-02-15</td>\n      <td>22:20:00</td>\n      <td>22:35:00</td>\n      <td>...</td>\n      <td>Metropolitian</td>\n      <td>75</td>\n      <td>Pet Supplies</td>\n      <td>2022-02-15 22:20:00</td>\n      <td>2022-02-15 22:35:00</td>\n      <td>2022-02-15 23:50:00</td>\n      <td>4423.276011</td>\n      <td>15.0</td>\n      <td>75.0</td>\n      <td>90.0</td>\n    </tr>\n    <tr>\n      <th>43343</th>\n      <td>ewwo088934804</td>\n      <td>30</td>\n      <td>4.0</td>\n      <td>26.482581</td>\n      <td>80.315628</td>\n      <td>26.532581</td>\n      <td>80.365628</td>\n      <td>2022-02-17</td>\n      <td>22:25:00</td>\n      <td>22:40:00</td>\n      <td>...</td>\n      <td>Metropolitian</td>\n      <td>170</td>\n      <td>Sports</td>\n      <td>2022-02-17 22:25:00</td>\n      <td>2022-02-17 22:40:00</td>\n      <td>2022-02-18 01:30:00</td>\n      <td>5895.019482</td>\n      <td>15.0</td>\n      <td>170.0</td>\n      <td>185.0</td>\n    </tr>\n  </tbody>\n</table>\n<p>156 rows × 23 columns</p>\n</div>"
     },
     "execution_count": 53,
     "metadata": {},
     "output_type": "execute_result"
    }
   ],
   "source": [
    "# flip Store_Latitude for those rows\n",
    "df.loc[mask_diff_signs, 'Store_Latitude'] *= -1\n",
    "df[mask_diff_signs==True]"
   ],
   "metadata": {
    "collapsed": false,
    "ExecuteTime": {
     "end_time": "2025-04-09T12:52:09.359826Z",
     "start_time": "2025-04-09T12:52:09.343335Z"
    }
   },
   "id": "dd139309dcc7cfb4"
  },
  {
   "cell_type": "code",
   "execution_count": 57,
   "outputs": [
    {
     "data": {
      "text/plain": "   Store_Latitude  Store_Longitude  Drop_Latitude  Drop_Longitude  distance_km\n0       22.745049        75.892471      22.765049       75.912471     3.025149\n1       12.913041        77.683237      13.043041       77.813237    20.183530\n2       12.914264        77.678400      12.924264       77.688400     1.552758\n3       11.003669        76.976494      11.053669       77.026494     7.790401\n4       12.972793        80.249982      13.012793       80.289982     6.210138",
      "text/html": "<div>\n<style scoped>\n    .dataframe tbody tr th:only-of-type {\n        vertical-align: middle;\n    }\n\n    .dataframe tbody tr th {\n        vertical-align: top;\n    }\n\n    .dataframe thead th {\n        text-align: right;\n    }\n</style>\n<table border=\"1\" class=\"dataframe\">\n  <thead>\n    <tr style=\"text-align: right;\">\n      <th></th>\n      <th>Store_Latitude</th>\n      <th>Store_Longitude</th>\n      <th>Drop_Latitude</th>\n      <th>Drop_Longitude</th>\n      <th>distance_km</th>\n    </tr>\n  </thead>\n  <tbody>\n    <tr>\n      <th>0</th>\n      <td>22.745049</td>\n      <td>75.892471</td>\n      <td>22.765049</td>\n      <td>75.912471</td>\n      <td>3.025149</td>\n    </tr>\n    <tr>\n      <th>1</th>\n      <td>12.913041</td>\n      <td>77.683237</td>\n      <td>13.043041</td>\n      <td>77.813237</td>\n      <td>20.183530</td>\n    </tr>\n    <tr>\n      <th>2</th>\n      <td>12.914264</td>\n      <td>77.678400</td>\n      <td>12.924264</td>\n      <td>77.688400</td>\n      <td>1.552758</td>\n    </tr>\n    <tr>\n      <th>3</th>\n      <td>11.003669</td>\n      <td>76.976494</td>\n      <td>11.053669</td>\n      <td>77.026494</td>\n      <td>7.790401</td>\n    </tr>\n    <tr>\n      <th>4</th>\n      <td>12.972793</td>\n      <td>80.249982</td>\n      <td>13.012793</td>\n      <td>80.289982</td>\n      <td>6.210138</td>\n    </tr>\n  </tbody>\n</table>\n</div>"
     },
     "execution_count": 57,
     "metadata": {},
     "output_type": "execute_result"
    }
   ],
   "source": [
    "import numpy as np\n",
    "\n",
    "# convert degrees to radians\n",
    "store_lat = np.radians(df['Store_Latitude'])\n",
    "store_lon = np.radians(df['Store_Longitude'])\n",
    "drop_lat = np.radians(df['Drop_Latitude'])\n",
    "drop_lon = np.radians(df['Drop_Longitude'])\n",
    "\n",
    "# Haversine formula (vectorized)\n",
    "dlat = drop_lat - store_lat\n",
    "dlon = drop_lon - store_lon\n",
    "\n",
    "a = np.sin(dlat / 2)**2 + np.cos(store_lat) * np.cos(drop_lat) * np.sin(dlon / 2)**2\n",
    "c = 2 * np.arcsin(np.sqrt(a))\n",
    "earth_radius_km = 6371 # Earth's radius in km\n",
    "df['distance_km'] = earth_radius_km * c\n",
    "\n",
    "# preview the result\n",
    "df[['Store_Latitude', 'Store_Longitude', 'Drop_Latitude', 'Drop_Longitude', 'distance_km']].head()\n"
   ],
   "metadata": {
    "collapsed": false,
    "ExecuteTime": {
     "end_time": "2025-04-09T12:55:00.264852Z",
     "start_time": "2025-04-09T12:55:00.254160Z"
    }
   },
   "id": "8f878f1036ec2b12"
  },
  {
   "cell_type": "markdown",
   "source": [
    "**Note**\n",
    "\n",
    "The `distance_km` feature was calculated using the Haversine formula, which represents straight-line distance. While this is useful for estimating proximity, it does not account for real-world routing constraints such as traffic, road infrastructure, or delivery logistics. "
   ],
   "metadata": {
    "collapsed": false
   },
   "id": "53c8dd4c1f0f17bc"
  },
  {
   "cell_type": "markdown",
   "source": [
    "## Step 5: Final Check & Export\n",
    "- check column types\n",
    "- check for any remaining missing values\n",
    "- review new engineered features\n",
    "- export the cleaned dataset as a csv"
   ],
   "metadata": {
    "collapsed": false
   },
   "id": "5aa9e58931c9883f"
  },
  {
   "cell_type": "code",
   "execution_count": 66,
   "outputs": [
    {
     "data": {
      "text/plain": "(np.int64(0), np.int64(0))"
     },
     "execution_count": 66,
     "metadata": {},
     "output_type": "execute_result"
    }
   ],
   "source": [
    "(df['order_to_pickup_mins'] < 0).sum(), (df['total_fulfillment_mins'] < 0).sum()"
   ],
   "metadata": {
    "collapsed": false,
    "ExecuteTime": {
     "end_time": "2025-04-10T08:42:41.623113Z",
     "start_time": "2025-04-10T08:42:41.615741Z"
    }
   },
   "id": "3ca4e3cc951e1dce"
  },
  {
   "cell_type": "code",
   "execution_count": 67,
   "outputs": [
    {
     "data": {
      "text/plain": "Order_ID                           object\nAgent_Age                           int64\nAgent_Rating                      float64\nStore_Latitude                    float64\nStore_Longitude                   float64\nDrop_Latitude                     float64\nDrop_Longitude                    float64\nOrder_Date                         object\nOrder_Time                         object\nPickup_Time                        object\nWeather                            object\nTraffic                            object\nVehicle                            object\nArea                               object\nDelivery_Time                       int64\nCategory                           object\norder_datetime             datetime64[ns]\npickup_datetime            datetime64[ns]\ndelivery_datetime          datetime64[ns]\ndistance_km                       float64\norder_to_pickup_mins              float64\npickup_to_delivery_mins           float64\ntotal_fulfillment_mins            float64\ndtype: object"
     },
     "execution_count": 67,
     "metadata": {},
     "output_type": "execute_result"
    }
   ],
   "source": [
    "# confirm all column types are correct\n",
    "df.dtypes"
   ],
   "metadata": {
    "collapsed": false,
    "ExecuteTime": {
     "end_time": "2025-04-10T08:42:42.111188Z",
     "start_time": "2025-04-10T08:42:42.105359Z"
    }
   },
   "id": "92292aa93a32d8bb"
  },
  {
   "cell_type": "code",
   "execution_count": 68,
   "outputs": [
    {
     "data": {
      "text/plain": "Series([], dtype: int64)"
     },
     "execution_count": 68,
     "metadata": {},
     "output_type": "execute_result"
    }
   ],
   "source": [
    "# confirm no missing values remain\n",
    "df.isnull().sum()[df.isnull().sum() > 0]"
   ],
   "metadata": {
    "collapsed": false,
    "ExecuteTime": {
     "end_time": "2025-04-10T08:42:42.614327Z",
     "start_time": "2025-04-10T08:42:42.594561Z"
    }
   },
   "id": "166f4e120f7f9d19"
  },
  {
   "cell_type": "code",
   "execution_count": 69,
   "outputs": [
    {
     "data": {
      "text/plain": "                      order_datetime                pickup_datetime  \\\ncount                          43648                          43648   \nmean   2022-03-14 09:55:13.388929536  2022-03-14 10:05:12.866568960   \nmin              2022-02-11 00:00:00            2022-02-11 00:05:00   \n25%              2022-03-04 22:50:00            2022-03-04 23:00:00   \n50%              2022-03-15 16:35:00            2022-03-15 16:45:00   \n75%              2022-03-27 18:15:00            2022-03-27 18:26:15   \nmax              2022-04-06 23:55:00            2022-04-07 00:05:00   \nstd                              NaN                            NaN   \n\n                   delivery_datetime  order_to_pickup_mins  \\\ncount                          43648          43648.000000   \nmean   2022-03-14 12:10:07.735062016              9.991294   \nmin              2022-02-11 00:21:00              5.000000   \n25%              2022-03-05 01:05:00              5.000000   \n50%              2022-03-15 18:22:30             10.000000   \n75%              2022-03-27 20:45:00             15.000000   \nmax              2022-04-07 03:40:00             15.000000   \nstd                              NaN              4.086680   \n\n       pickup_to_delivery_mins  total_fulfillment_mins   distance_km  \ncount             43648.000000            43648.000000  43648.000000  \nmean                124.914475              134.905769      9.732144  \nmin                  10.000000               15.000000      1.465067  \n25%                  90.000000              100.000000      4.663412  \n50%                 125.000000              135.000000      9.220148  \n75%                 160.000000              170.000000     13.681379  \nmax                 270.000000              285.000000     20.969489  \nstd                  51.933163               52.055762      5.603598  ",
      "text/html": "<div>\n<style scoped>\n    .dataframe tbody tr th:only-of-type {\n        vertical-align: middle;\n    }\n\n    .dataframe tbody tr th {\n        vertical-align: top;\n    }\n\n    .dataframe thead th {\n        text-align: right;\n    }\n</style>\n<table border=\"1\" class=\"dataframe\">\n  <thead>\n    <tr style=\"text-align: right;\">\n      <th></th>\n      <th>order_datetime</th>\n      <th>pickup_datetime</th>\n      <th>delivery_datetime</th>\n      <th>order_to_pickup_mins</th>\n      <th>pickup_to_delivery_mins</th>\n      <th>total_fulfillment_mins</th>\n      <th>distance_km</th>\n    </tr>\n  </thead>\n  <tbody>\n    <tr>\n      <th>count</th>\n      <td>43648</td>\n      <td>43648</td>\n      <td>43648</td>\n      <td>43648.000000</td>\n      <td>43648.000000</td>\n      <td>43648.000000</td>\n      <td>43648.000000</td>\n    </tr>\n    <tr>\n      <th>mean</th>\n      <td>2022-03-14 09:55:13.388929536</td>\n      <td>2022-03-14 10:05:12.866568960</td>\n      <td>2022-03-14 12:10:07.735062016</td>\n      <td>9.991294</td>\n      <td>124.914475</td>\n      <td>134.905769</td>\n      <td>9.732144</td>\n    </tr>\n    <tr>\n      <th>min</th>\n      <td>2022-02-11 00:00:00</td>\n      <td>2022-02-11 00:05:00</td>\n      <td>2022-02-11 00:21:00</td>\n      <td>5.000000</td>\n      <td>10.000000</td>\n      <td>15.000000</td>\n      <td>1.465067</td>\n    </tr>\n    <tr>\n      <th>25%</th>\n      <td>2022-03-04 22:50:00</td>\n      <td>2022-03-04 23:00:00</td>\n      <td>2022-03-05 01:05:00</td>\n      <td>5.000000</td>\n      <td>90.000000</td>\n      <td>100.000000</td>\n      <td>4.663412</td>\n    </tr>\n    <tr>\n      <th>50%</th>\n      <td>2022-03-15 16:35:00</td>\n      <td>2022-03-15 16:45:00</td>\n      <td>2022-03-15 18:22:30</td>\n      <td>10.000000</td>\n      <td>125.000000</td>\n      <td>135.000000</td>\n      <td>9.220148</td>\n    </tr>\n    <tr>\n      <th>75%</th>\n      <td>2022-03-27 18:15:00</td>\n      <td>2022-03-27 18:26:15</td>\n      <td>2022-03-27 20:45:00</td>\n      <td>15.000000</td>\n      <td>160.000000</td>\n      <td>170.000000</td>\n      <td>13.681379</td>\n    </tr>\n    <tr>\n      <th>max</th>\n      <td>2022-04-06 23:55:00</td>\n      <td>2022-04-07 00:05:00</td>\n      <td>2022-04-07 03:40:00</td>\n      <td>15.000000</td>\n      <td>270.000000</td>\n      <td>285.000000</td>\n      <td>20.969489</td>\n    </tr>\n    <tr>\n      <th>std</th>\n      <td>NaN</td>\n      <td>NaN</td>\n      <td>NaN</td>\n      <td>4.086680</td>\n      <td>51.933163</td>\n      <td>52.055762</td>\n      <td>5.603598</td>\n    </tr>\n  </tbody>\n</table>\n</div>"
     },
     "execution_count": 69,
     "metadata": {},
     "output_type": "execute_result"
    }
   ],
   "source": [
    "# confirm new features exist and look correct\n",
    "df[['order_datetime', 'pickup_datetime', 'delivery_datetime', \n",
    "    'order_to_pickup_mins', 'pickup_to_delivery_mins', 'total_fulfillment_mins', \n",
    "    'distance_km']].describe()"
   ],
   "metadata": {
    "collapsed": false,
    "ExecuteTime": {
     "end_time": "2025-04-10T08:42:43.800512Z",
     "start_time": "2025-04-10T08:42:43.766944Z"
    }
   },
   "id": "db2efa8a10d890f5"
  },
  {
   "cell_type": "code",
   "execution_count": 70,
   "outputs": [],
   "source": [
    "# export the cleaned dataset\n",
    "df.to_csv('../data/amazon_delivery_cleaned.csv', index=False)"
   ],
   "metadata": {
    "collapsed": false,
    "ExecuteTime": {
     "end_time": "2025-04-10T08:42:46.695720Z",
     "start_time": "2025-04-10T08:42:46.359150Z"
    }
   },
   "id": "3a7bd408438be2ca"
  }
 ],
 "metadata": {
  "kernelspec": {
   "display_name": "Python 3",
   "language": "python",
   "name": "python3"
  },
  "language_info": {
   "codemirror_mode": {
    "name": "ipython",
    "version": 2
   },
   "file_extension": ".py",
   "mimetype": "text/x-python",
   "name": "python",
   "nbconvert_exporter": "python",
   "pygments_lexer": "ipython2",
   "version": "2.7.6"
  }
 },
 "nbformat": 4,
 "nbformat_minor": 5
}
